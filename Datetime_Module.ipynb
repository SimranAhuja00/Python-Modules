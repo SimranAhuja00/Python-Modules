{
  "cells": [
    {
      "cell_type": "markdown",
      "metadata": {
        "id": "EJeahW27FSq6"
      },
      "source": [
        "# datetime module\n",
        "\n",
        "Python has the datetime module to help deal with timestamps in your code. Time values are represented with the time class. Times have attributes for hour, minute, second, and microsecond. They can also include time zone information. The arguments to initialize a time instance are optional, but the default of 0 is unlikely to be what you want.\n",
        "\n",
        "## time\n",
        "Let's take a look at how we can extract time information from the datetime module. We can create a timestamp by specifying datetime.time(hour,minute,second,microsecond)"
      ]
    },
    {
      "cell_type": "code",
      "execution_count": 1,
      "metadata": {
        "id": "1HHq_GvjFSq7",
        "outputId": "62b689e6-28fa-4e97-eb72-78200becff33",
        "colab": {
          "base_uri": "https://localhost:8080/"
        }
      },
      "outputs": [
        {
          "output_type": "stream",
          "name": "stdout",
          "text": [
            "04:20:01\n",
            "hour  : 4\n",
            "minute: 20\n",
            "second: 1\n",
            "microsecond: 0\n",
            "tzinfo: None\n"
          ]
        }
      ],
      "source": [
        "import datetime\n",
        "\n",
        "t = datetime.time(4, 20, 1)\n",
        "\n",
        "# Let's show the different components\n",
        "print(t)\n",
        "print('hour  :', t.hour)\n",
        "print('minute:', t.minute)\n",
        "print('second:', t.second)\n",
        "print('microsecond:', t.microsecond)\n",
        "print('tzinfo:', t.tzinfo)"
      ]
    },
    {
      "cell_type": "markdown",
      "metadata": {
        "id": "W4JoxV0VFSq8"
      },
      "source": [
        "Note: A time instance only holds values of time, and not a date associated with the time.\n",
        "\n",
        "We can also check the min and max values a time of day can have in the module:"
      ]
    },
    {
      "cell_type": "code",
      "execution_count": 2,
      "metadata": {
        "id": "_-RV426jFSq8",
        "outputId": "51ddd829-845e-4e10-cefa-86b2b641cf30",
        "colab": {
          "base_uri": "https://localhost:8080/"
        }
      },
      "outputs": [
        {
          "output_type": "stream",
          "name": "stdout",
          "text": [
            "Earliest  : 00:00:00\n",
            "Latest    : 23:59:59.999999\n",
            "Resolution: 0:00:00.000001\n"
          ]
        }
      ],
      "source": [
        "print('Earliest  :', datetime.time.min)\n",
        "print('Latest    :', datetime.time.max)\n",
        "print('Resolution:', datetime.time.resolution)"
      ]
    },
    {
      "cell_type": "markdown",
      "metadata": {
        "id": "BMI9AmI7FSq8"
      },
      "source": [
        "The min and max class attributes reflect the valid range of times in a single day."
      ]
    },
    {
      "cell_type": "markdown",
      "metadata": {
        "id": "pItEeR2SFSq8"
      },
      "source": [
        "## Dates\n",
        "datetime (as you might suspect) also allows us to work with date timestamps. Calendar date values are represented with the date class. Instances have attributes for year, month, and day. It is easy to create a date representing today’s date using the today() class method.\n",
        "\n",
        "Let's see some examples:"
      ]
    },
    {
      "cell_type": "code",
      "execution_count": 3,
      "metadata": {
        "id": "OWECKGCvFSq9",
        "outputId": "f86d2a1e-8e22-47f2-ed36-8fee2a9b54ce",
        "colab": {
          "base_uri": "https://localhost:8080/"
        }
      },
      "outputs": [
        {
          "output_type": "stream",
          "name": "stdout",
          "text": [
            "2023-06-23\n",
            "ctime: Fri Jun 23 00:00:00 2023\n",
            "tuple: time.struct_time(tm_year=2023, tm_mon=6, tm_mday=23, tm_hour=0, tm_min=0, tm_sec=0, tm_wday=4, tm_yday=174, tm_isdst=-1)\n",
            "ordinal: 738694\n",
            "Year : 2023\n",
            "Month: 6\n",
            "Day  : 23\n"
          ]
        }
      ],
      "source": [
        "today = datetime.date.today()\n",
        "print(today)\n",
        "print('ctime:', today.ctime())\n",
        "print('tuple:', today.timetuple())\n",
        "print('ordinal:', today.toordinal())\n",
        "print('Year :', today.year)\n",
        "print('Month:', today.month)\n",
        "print('Day  :', today.day)"
      ]
    },
    {
      "cell_type": "markdown",
      "metadata": {
        "id": "IIhDg1QWFSq9"
      },
      "source": [
        "As with time, the range of date values supported can be determined using the min and max attributes."
      ]
    },
    {
      "cell_type": "code",
      "execution_count": 4,
      "metadata": {
        "id": "u1nzUTf-FSq9",
        "outputId": "f706a86c-d195-4d53-e419-777a27e9dfee",
        "colab": {
          "base_uri": "https://localhost:8080/"
        }
      },
      "outputs": [
        {
          "output_type": "stream",
          "name": "stdout",
          "text": [
            "Earliest  : 0001-01-01\n",
            "Latest    : 9999-12-31\n",
            "Resolution: 1 day, 0:00:00\n"
          ]
        }
      ],
      "source": [
        "print('Earliest  :', datetime.date.min)\n",
        "print('Latest    :', datetime.date.max)\n",
        "print('Resolution:', datetime.date.resolution)"
      ]
    },
    {
      "cell_type": "markdown",
      "metadata": {
        "id": "_Wcj99C-FSq9"
      },
      "source": [
        "Another way to create new date instances uses the replace() method of an existing date. For example, you can change the year, leaving the day and month alone."
      ]
    },
    {
      "cell_type": "code",
      "execution_count": 5,
      "metadata": {
        "id": "1GgiA542FSq9",
        "outputId": "59ce189c-5bd9-434e-c6fc-7ae3e5a06ed1",
        "colab": {
          "base_uri": "https://localhost:8080/"
        }
      },
      "outputs": [
        {
          "output_type": "stream",
          "name": "stdout",
          "text": [
            "d1: 2015-03-11\n",
            "d2: 1990-03-11\n"
          ]
        }
      ],
      "source": [
        "d1 = datetime.date(2015, 3, 11)\n",
        "print('d1:', d1)\n",
        "\n",
        "d2 = d1.replace(year=1990)\n",
        "print('d2:', d2)"
      ]
    },
    {
      "cell_type": "markdown",
      "metadata": {
        "id": "nqnqP44FFSq9"
      },
      "source": [
        "# Arithmetic\n",
        "We can perform arithmetic on date objects to check for time differences. For example:"
      ]
    },
    {
      "cell_type": "code",
      "execution_count": 6,
      "metadata": {
        "id": "ELUnZ8oUFSq9",
        "outputId": "be48d88b-a236-4c99-98a6-7586a7423cd1",
        "colab": {
          "base_uri": "https://localhost:8080/"
        }
      },
      "outputs": [
        {
          "output_type": "execute_result",
          "data": {
            "text/plain": [
              "datetime.date(2015, 3, 11)"
            ]
          },
          "metadata": {},
          "execution_count": 6
        }
      ],
      "source": [
        "d1"
      ]
    },
    {
      "cell_type": "code",
      "execution_count": 7,
      "metadata": {
        "id": "dk5WdKvHFSq9",
        "outputId": "45dd40f4-b193-4666-8c9b-59fae8f1e310",
        "colab": {
          "base_uri": "https://localhost:8080/"
        }
      },
      "outputs": [
        {
          "output_type": "execute_result",
          "data": {
            "text/plain": [
              "datetime.date(1990, 3, 11)"
            ]
          },
          "metadata": {},
          "execution_count": 7
        }
      ],
      "source": [
        "d2"
      ]
    },
    {
      "cell_type": "code",
      "execution_count": 8,
      "metadata": {
        "id": "mfU5-6MAFSq9",
        "outputId": "ca9117b7-b6f2-4448-ccac-7b808c376fa0",
        "colab": {
          "base_uri": "https://localhost:8080/"
        }
      },
      "outputs": [
        {
          "output_type": "execute_result",
          "data": {
            "text/plain": [
              "datetime.timedelta(days=9131)"
            ]
          },
          "metadata": {},
          "execution_count": 8
        }
      ],
      "source": [
        "d1-d2"
      ]
    },
    {
      "cell_type": "markdown",
      "metadata": {
        "id": "0IP-zdY7FSq-"
      },
      "source": [
        "This gives us the difference in days between the two dates. You can use the timedelta method to specify various units of times (days, minutes, hours, etc.)"
      ]
    }
  ],
  "metadata": {
    "kernelspec": {
      "display_name": "Python 3",
      "language": "python",
      "name": "python3"
    },
    "language_info": {
      "codemirror_mode": {
        "name": "ipython",
        "version": 3
      },
      "file_extension": ".py",
      "mimetype": "text/x-python",
      "name": "python",
      "nbconvert_exporter": "python",
      "pygments_lexer": "ipython3",
      "version": "3.6.6"
    },
    "colab": {
      "provenance": []
    }
  },
  "nbformat": 4,
  "nbformat_minor": 0
}