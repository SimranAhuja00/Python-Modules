{
  "cells": [
    {
      "cell_type": "markdown",
      "metadata": {
        "id": "4VjokE52vDpb"
      },
      "source": [
        "# Overview of Regular Expressions\n",
        "\n",
        "Regular Expressions (sometimes called regex for short) allows a user to search for strings using almost any sort of rule they can come up. For example, finding all capital letters in a string, or finding a phone number in a document.\n",
        "\n",
        "Regular expressions are notorious for their seemingly strange syntax. This strange syntax is a byproduct of their flexibility. Regular expressions have to be able to filter out any string pattern you can imagine, which is why they have a complex string pattern format."
      ]
    },
    {
      "cell_type": "markdown",
      "metadata": {
        "id": "BhedfGHqvDpc"
      },
      "source": [
        "Let's begin by explaining how to search for basic patterns in a string!"
      ]
    },
    {
      "cell_type": "markdown",
      "metadata": {
        "id": "Y4SajM0ivDpc"
      },
      "source": [
        "## Searching for Basic Patterns\n",
        "\n",
        "Let's imagine that we have the following string:"
      ]
    },
    {
      "cell_type": "code",
      "execution_count": 1,
      "metadata": {
        "collapsed": true,
        "id": "SwVEqfM1vDpd"
      },
      "outputs": [],
      "source": [
        "text = \"The person's phone number is 999-987-2343. Call soon!\""
      ]
    },
    {
      "cell_type": "markdown",
      "metadata": {
        "id": "fgPXw1XZvDpf"
      },
      "source": [
        "We'll start off by trying to find out if the string \"phone\" is inside the text string. Now we could quickly do this with:"
      ]
    },
    {
      "cell_type": "code",
      "execution_count": 2,
      "metadata": {
        "id": "cFa0u37GvDpf",
        "outputId": "b5bf1b16-10c3-4765-8b0a-06a8288f65d0",
        "colab": {
          "base_uri": "https://localhost:8080/"
        }
      },
      "outputs": [
        {
          "output_type": "execute_result",
          "data": {
            "text/plain": [
              "True"
            ]
          },
          "metadata": {},
          "execution_count": 2
        }
      ],
      "source": [
        "'phone' in text"
      ]
    },
    {
      "cell_type": "markdown",
      "metadata": {
        "id": "ztbCOUbavDpf"
      },
      "source": [
        "But let's show the format for regular expressions, because later on we will be searching for patterns that won't have such a simple solution."
      ]
    },
    {
      "cell_type": "code",
      "execution_count": 3,
      "metadata": {
        "collapsed": true,
        "id": "csWjlPo2vDpf"
      },
      "outputs": [],
      "source": [
        "import re"
      ]
    },
    {
      "cell_type": "code",
      "execution_count": 4,
      "metadata": {
        "collapsed": true,
        "id": "bDAnuXaivDpf"
      },
      "outputs": [],
      "source": [
        "pattern = 'phone'"
      ]
    },
    {
      "cell_type": "code",
      "execution_count": 5,
      "metadata": {
        "id": "aG1_uAlJvDpg",
        "outputId": "8eaa8ac6-fe3e-4012-ce43-44bb9298976d",
        "colab": {
          "base_uri": "https://localhost:8080/"
        }
      },
      "outputs": [
        {
          "output_type": "execute_result",
          "data": {
            "text/plain": [
              "<re.Match object; span=(13, 18), match='phone'>"
            ]
          },
          "metadata": {},
          "execution_count": 5
        }
      ],
      "source": [
        "re.search(pattern,text)"
      ]
    },
    {
      "cell_type": "code",
      "execution_count": 6,
      "metadata": {
        "collapsed": true,
        "id": "J-uJT5zgvDpg"
      },
      "outputs": [],
      "source": [
        "pattern = \"NOT IN TEXT\""
      ]
    },
    {
      "cell_type": "code",
      "execution_count": 7,
      "metadata": {
        "collapsed": true,
        "id": "mChnnUUbvDpg"
      },
      "outputs": [],
      "source": [
        "re.search(pattern,text)"
      ]
    },
    {
      "cell_type": "markdown",
      "metadata": {
        "id": "gwnxeLuxvDpg"
      },
      "source": [
        "Now we've seen that re.search() will take the pattern, scan the text, and then returns a Match object. If no pattern is found, a None is returned (in Jupyter Notebook this just means that nothing is output below the cell).\n",
        "\n",
        "Let's take a closer look at this Match object."
      ]
    },
    {
      "cell_type": "code",
      "execution_count": 8,
      "metadata": {
        "collapsed": true,
        "id": "qhYBYX6uvDpg"
      },
      "outputs": [],
      "source": [
        "pattern = 'phone'"
      ]
    },
    {
      "cell_type": "code",
      "execution_count": 9,
      "metadata": {
        "collapsed": true,
        "id": "mt69-cA6vDpg"
      },
      "outputs": [],
      "source": [
        "match = re.search(pattern,text)"
      ]
    },
    {
      "cell_type": "code",
      "execution_count": 10,
      "metadata": {
        "id": "xSFtttKYvDpg",
        "outputId": "85f5471e-f6cc-4ef3-ed72-4b6a4416e087",
        "colab": {
          "base_uri": "https://localhost:8080/"
        }
      },
      "outputs": [
        {
          "output_type": "execute_result",
          "data": {
            "text/plain": [
              "<re.Match object; span=(13, 18), match='phone'>"
            ]
          },
          "metadata": {},
          "execution_count": 10
        }
      ],
      "source": [
        "match"
      ]
    },
    {
      "cell_type": "markdown",
      "metadata": {
        "id": "LybEoPUEvDpg"
      },
      "source": [
        "the span has the start and end index information."
      ]
    },
    {
      "cell_type": "code",
      "execution_count": 11,
      "metadata": {
        "id": "HntJO_1WvDpg",
        "outputId": "a27fc6ea-211d-43d0-d08c-3fc9f068bd66",
        "colab": {
          "base_uri": "https://localhost:8080/"
        }
      },
      "outputs": [
        {
          "output_type": "execute_result",
          "data": {
            "text/plain": [
              "(13, 18)"
            ]
          },
          "metadata": {},
          "execution_count": 11
        }
      ],
      "source": [
        "match.span()"
      ]
    },
    {
      "cell_type": "code",
      "execution_count": 12,
      "metadata": {
        "id": "QGYmqnzOvDpg",
        "outputId": "5dac0a27-6e02-47f6-8085-29d38e7f873e",
        "colab": {
          "base_uri": "https://localhost:8080/"
        }
      },
      "outputs": [
        {
          "output_type": "execute_result",
          "data": {
            "text/plain": [
              "13"
            ]
          },
          "metadata": {},
          "execution_count": 12
        }
      ],
      "source": [
        "match.start()"
      ]
    },
    {
      "cell_type": "code",
      "execution_count": 13,
      "metadata": {
        "id": "lTDe6XXivDpg",
        "outputId": "2fb54fb0-d3da-4b78-dbec-83077994cc92",
        "colab": {
          "base_uri": "https://localhost:8080/"
        }
      },
      "outputs": [
        {
          "output_type": "execute_result",
          "data": {
            "text/plain": [
              "18"
            ]
          },
          "metadata": {},
          "execution_count": 13
        }
      ],
      "source": [
        "match.end()"
      ]
    },
    {
      "cell_type": "markdown",
      "metadata": {
        "id": "e23C02S6vDpg"
      },
      "source": [
        "But what if the pattern occurs more than once?"
      ]
    },
    {
      "cell_type": "code",
      "execution_count": 14,
      "metadata": {
        "collapsed": true,
        "id": "YKqyI7LxvDpg"
      },
      "outputs": [],
      "source": [
        "text = \"my phone is a new phone\""
      ]
    },
    {
      "cell_type": "code",
      "execution_count": 15,
      "metadata": {
        "collapsed": true,
        "id": "0aILISKkvDpg"
      },
      "outputs": [],
      "source": [
        "match = re.search(\"phone\",text)"
      ]
    },
    {
      "cell_type": "code",
      "execution_count": 16,
      "metadata": {
        "id": "VVQF6nJ_vDph",
        "outputId": "0443999a-e59d-4605-b8f4-113752463175",
        "colab": {
          "base_uri": "https://localhost:8080/"
        }
      },
      "outputs": [
        {
          "output_type": "execute_result",
          "data": {
            "text/plain": [
              "(3, 8)"
            ]
          },
          "metadata": {},
          "execution_count": 16
        }
      ],
      "source": [
        "match.span()"
      ]
    },
    {
      "cell_type": "markdown",
      "metadata": {
        "id": "vBew9JpIvDph"
      },
      "source": [
        "Notice it only matches the first instance. If we wanted a list of all matches, we can use .findall() method:"
      ]
    },
    {
      "cell_type": "code",
      "execution_count": 17,
      "metadata": {
        "collapsed": true,
        "id": "V-4kAJhfvDph"
      },
      "outputs": [],
      "source": [
        "matches = re.findall(\"phone\",text)"
      ]
    },
    {
      "cell_type": "code",
      "execution_count": 18,
      "metadata": {
        "id": "_JLEVmZmvDph",
        "outputId": "57fb85dc-617e-4c2b-d40c-a7afb325ae21",
        "colab": {
          "base_uri": "https://localhost:8080/"
        }
      },
      "outputs": [
        {
          "output_type": "execute_result",
          "data": {
            "text/plain": [
              "['phone', 'phone']"
            ]
          },
          "metadata": {},
          "execution_count": 18
        }
      ],
      "source": [
        "matches"
      ]
    },
    {
      "cell_type": "code",
      "execution_count": 19,
      "metadata": {
        "id": "Eq9tNyEjvDph",
        "outputId": "b6d94452-7a6b-4966-908d-5f8d5d70237a",
        "colab": {
          "base_uri": "https://localhost:8080/"
        }
      },
      "outputs": [
        {
          "output_type": "execute_result",
          "data": {
            "text/plain": [
              "2"
            ]
          },
          "metadata": {},
          "execution_count": 19
        }
      ],
      "source": [
        "len(matches)"
      ]
    },
    {
      "cell_type": "markdown",
      "metadata": {
        "id": "oHdK7aBhvDph"
      },
      "source": [
        "To get actual match objects, use the iterator:"
      ]
    },
    {
      "cell_type": "code",
      "execution_count": 20,
      "metadata": {
        "id": "8cog_LCIvDph",
        "outputId": "438be97f-4155-45e6-dd25-13acaba6bef6",
        "colab": {
          "base_uri": "https://localhost:8080/"
        }
      },
      "outputs": [
        {
          "output_type": "stream",
          "name": "stdout",
          "text": [
            "(3, 8)\n",
            "(18, 23)\n"
          ]
        }
      ],
      "source": [
        "for match in re.finditer(\"phone\",text):\n",
        "    print(match.span())"
      ]
    },
    {
      "cell_type": "markdown",
      "metadata": {
        "id": "FED1fZ2hvDph"
      },
      "source": [
        "If you wanted the actual text that matched, you can use the .group() method."
      ]
    },
    {
      "cell_type": "code",
      "execution_count": 21,
      "metadata": {
        "id": "U7s6VFLOvDph",
        "outputId": "9b264c67-b587-498d-c15d-82e5b487b23a",
        "colab": {
          "base_uri": "https://localhost:8080/",
          "height": 35
        }
      },
      "outputs": [
        {
          "output_type": "execute_result",
          "data": {
            "text/plain": [
              "'phone'"
            ],
            "application/vnd.google.colaboratory.intrinsic+json": {
              "type": "string"
            }
          },
          "metadata": {},
          "execution_count": 21
        }
      ],
      "source": [
        "match.group()"
      ]
    },
    {
      "cell_type": "markdown",
      "metadata": {
        "id": "p9vutE-7vDph"
      },
      "source": [
        "# Patterns\n",
        "\n",
        "So far we've learned how to search for a basic string. What about more complex examples? Such as trying to find a telephone number in a large string of text? Or an email address?\n",
        "\n",
        "We could just use search method if we know the exact phone or email, but what if we don't know it? We may know the general format, and we can use that along with regular expressions to search the document for strings that match a particular pattern.\n",
        "\n",
        "This is where the syntax may appear strange at first, but take your time with this, often its just a matter of looking up the pattern code.\n",
        "\n",
        "Let' begin!"
      ]
    },
    {
      "cell_type": "markdown",
      "metadata": {
        "id": "jJlOlXhWvDph"
      },
      "source": [
        "## Identifiers for Characters in Patterns\n",
        "\n",
        "Characters such as a digit or a single string have different codes that represent them. You can use these to build up a pattern string. Notice how these make heavy use of the backwards slash \\ . Because of this when defining a pattern string for regular expression we use the format:\n",
        "\n",
        "    r'mypattern'\n",
        "    \n",
        "placing the r in front of the string allows python to understand that the \\ in the pattern string are not meant to be escape slashes.\n",
        "\n",
        "Below you can find a table of all the possible identifiers:"
      ]
    },
    {
      "cell_type": "markdown",
      "metadata": {
        "id": "D41gyJ6KvDph"
      },
      "source": [
        "<table ><tr><th>Character</th><th>Description</th><th>Example Pattern Code</th><th >Exammple Match</th></tr>\n",
        "\n",
        "<tr ><td><span >\\d</span></td><td>A digit</td><td>file_\\d\\d</td><td>file_25</td></tr>\n",
        "\n",
        "<tr ><td><span >\\w</span></td><td>Alphanumeric</td><td>\\w-\\w\\w\\w</td><td>A-b_1</td></tr>\n",
        "\n",
        "\n",
        "\n",
        "<tr ><td><span >\\s</span></td><td>White space</td><td>a\\sb\\sc</td><td>a b c</td></tr>\n",
        "\n",
        "\n",
        "\n",
        "<tr ><td><span >\\D</span></td><td>A non digit</td><td>\\D\\D\\D</td><td>ABC</td></tr>\n",
        "\n",
        "<tr ><td><span >\\W</span></td><td>Non-alphanumeric</td><td>\\W\\W\\W\\W\\W</td><td>*-+=)</td></tr>\n",
        "\n",
        "<tr ><td><span >\\S</span></td><td>Non-whitespace</td><td>\\S\\S\\S\\S</td><td>Yoyo</td></tr></table>"
      ]
    },
    {
      "cell_type": "markdown",
      "metadata": {
        "id": "cqc7YJLVvDph"
      },
      "source": [
        "For example:"
      ]
    },
    {
      "cell_type": "code",
      "execution_count": 22,
      "metadata": {
        "collapsed": true,
        "id": "62FTYP2yvDph"
      },
      "outputs": [],
      "source": [
        "text = \"My telephone number is 408-555-1234\""
      ]
    },
    {
      "cell_type": "code",
      "execution_count": 23,
      "metadata": {
        "collapsed": true,
        "id": "k18LHNlsvDph"
      },
      "outputs": [],
      "source": [
        "phone = re.search(r'\\d\\d\\d-\\d\\d\\d-\\d\\d\\d\\d',text)"
      ]
    },
    {
      "cell_type": "code",
      "execution_count": 24,
      "metadata": {
        "id": "R-0mkysavDpi",
        "outputId": "df8ce351-7cea-432b-af1c-7448c7bb7539",
        "colab": {
          "base_uri": "https://localhost:8080/",
          "height": 35
        }
      },
      "outputs": [
        {
          "output_type": "execute_result",
          "data": {
            "text/plain": [
              "'408-555-1234'"
            ],
            "application/vnd.google.colaboratory.intrinsic+json": {
              "type": "string"
            }
          },
          "metadata": {},
          "execution_count": 24
        }
      ],
      "source": [
        "phone.group()"
      ]
    },
    {
      "cell_type": "markdown",
      "metadata": {
        "id": "Yq8jBGVIvDpi"
      },
      "source": [
        "Notice the repetition of \\d. That is a bit of an annoyance, especially if we are looking for very long strings of numbers. Let's explore the possible quantifiers.\n",
        "\n",
        "## Quantifiers\n",
        "\n",
        "Now that we know the special character designations, we can use them along with quantifiers to define how many we expect."
      ]
    },
    {
      "cell_type": "markdown",
      "metadata": {
        "id": "kXIMtXWKvDpi"
      },
      "source": [
        "<table ><tr><th>Character</th><th>Description</th><th>Example Pattern Code</th><th >Exammple Match</th></tr>\n",
        "\n",
        "<tr ><td><span >+</span></td><td>Occurs one or more times</td><td>\tVersion \\w-\\w+</td><td>Version A-b1_1</td></tr>\n",
        "\n",
        "<tr ><td><span >{3}</span></td><td>Occurs exactly 3 times</td><td>\\D{3}</td><td>abc</td></tr>\n",
        "\n",
        "\n",
        "\n",
        "<tr ><td><span >{2,4}</span></td><td>Occurs 2 to 4 times</td><td>\\d{2,4}</td><td>123</td></tr>\n",
        "\n",
        "\n",
        "\n",
        "<tr ><td><span >{3,}</span></td><td>Occurs 3 or more</td><td>\\w{3,}</td><td>anycharacters</td></tr>\n",
        "\n",
        "<tr ><td><span >\\*</span></td><td>Occurs zero or more times</td><td>A\\*B\\*C*</td><td>AAACC</td></tr>\n",
        "\n",
        "<tr ><td><span >?</span></td><td>Once or none</td><td>plurals?</td><td>plural</td></tr></table>"
      ]
    },
    {
      "cell_type": "markdown",
      "metadata": {
        "id": "mcohDVwEvDpi"
      },
      "source": [
        "Let's rewrite our pattern using these quantifiers:"
      ]
    },
    {
      "cell_type": "code",
      "execution_count": 25,
      "metadata": {
        "id": "KXRjbcyRvDpj",
        "outputId": "1e1fdf0d-09b5-4551-e290-2118fc203980",
        "colab": {
          "base_uri": "https://localhost:8080/"
        }
      },
      "outputs": [
        {
          "output_type": "execute_result",
          "data": {
            "text/plain": [
              "<re.Match object; span=(23, 35), match='408-555-1234'>"
            ]
          },
          "metadata": {},
          "execution_count": 25
        }
      ],
      "source": [
        "re.search(r'\\d{3}-\\d{3}-\\d{4}',text)"
      ]
    },
    {
      "cell_type": "markdown",
      "metadata": {
        "id": "zhxP1iiYvDpk"
      },
      "source": [
        "## Groups\n",
        "\n",
        "What if we wanted to do two tasks, find phone numbers, but also be able to quickly extract their area code (the first three digits). We can use groups for any general task that involves grouping together regular expressions (so that we can later break them down).\n",
        "\n",
        "Using the phone number example, we can separate groups of regular expressions using parenthesis:"
      ]
    },
    {
      "cell_type": "code",
      "execution_count": 26,
      "metadata": {
        "collapsed": true,
        "id": "vX7ztRfOvDpk"
      },
      "outputs": [],
      "source": [
        "phone_pattern = re.compile(r'(\\d{3})-(\\d{3})-(\\d{4})')"
      ]
    },
    {
      "cell_type": "code",
      "execution_count": 27,
      "metadata": {
        "collapsed": true,
        "id": "RVRBsxt-vDpk"
      },
      "outputs": [],
      "source": [
        "results = re.search(phone_pattern,text)"
      ]
    },
    {
      "cell_type": "code",
      "execution_count": 28,
      "metadata": {
        "id": "szvpnlvnvDpk",
        "outputId": "89c68ff8-417d-42d2-b24a-f51bfc17bf3c",
        "colab": {
          "base_uri": "https://localhost:8080/",
          "height": 35
        }
      },
      "outputs": [
        {
          "output_type": "execute_result",
          "data": {
            "text/plain": [
              "'408-555-1234'"
            ],
            "application/vnd.google.colaboratory.intrinsic+json": {
              "type": "string"
            }
          },
          "metadata": {},
          "execution_count": 28
        }
      ],
      "source": [
        "# The entire result\n",
        "results.group()"
      ]
    },
    {
      "cell_type": "code",
      "execution_count": 29,
      "metadata": {
        "id": "FkkwHZNBvDpl",
        "outputId": "b76d5459-1a23-4866-b82b-534c5a3cec95",
        "colab": {
          "base_uri": "https://localhost:8080/",
          "height": 35
        }
      },
      "outputs": [
        {
          "output_type": "execute_result",
          "data": {
            "text/plain": [
              "'408'"
            ],
            "application/vnd.google.colaboratory.intrinsic+json": {
              "type": "string"
            }
          },
          "metadata": {},
          "execution_count": 29
        }
      ],
      "source": [
        "# Can then also call by group position.\n",
        "# remember groups were separated by parenthesis ()\n",
        "# Something to note is that group ordering starts at 1. Passing in 0 returns everything\n",
        "results.group(1)"
      ]
    },
    {
      "cell_type": "code",
      "execution_count": 30,
      "metadata": {
        "id": "K-_ha08svDpl",
        "outputId": "36f84d3e-024b-4d5f-9741-a9f832daf422",
        "colab": {
          "base_uri": "https://localhost:8080/",
          "height": 35
        }
      },
      "outputs": [
        {
          "output_type": "execute_result",
          "data": {
            "text/plain": [
              "'555'"
            ],
            "application/vnd.google.colaboratory.intrinsic+json": {
              "type": "string"
            }
          },
          "metadata": {},
          "execution_count": 30
        }
      ],
      "source": [
        "results.group(2)"
      ]
    },
    {
      "cell_type": "code",
      "execution_count": 31,
      "metadata": {
        "id": "AKX81CxivDpl",
        "outputId": "dda10902-873b-4288-9643-e39d51483733",
        "colab": {
          "base_uri": "https://localhost:8080/",
          "height": 35
        }
      },
      "outputs": [
        {
          "output_type": "execute_result",
          "data": {
            "text/plain": [
              "'1234'"
            ],
            "application/vnd.google.colaboratory.intrinsic+json": {
              "type": "string"
            }
          },
          "metadata": {},
          "execution_count": 31
        }
      ],
      "source": [
        "results.group(3)"
      ]
    },
    {
      "cell_type": "code",
      "execution_count": 32,
      "metadata": {
        "id": "y6f65N7cvDpl",
        "outputId": "915e4dd4-7002-4f0d-c71f-0389a1eb8947",
        "colab": {
          "base_uri": "https://localhost:8080/",
          "height": 187
        }
      },
      "outputs": [
        {
          "output_type": "error",
          "ename": "IndexError",
          "evalue": "ignored",
          "traceback": [
            "\u001b[0;31m---------------------------------------------------------------------------\u001b[0m",
            "\u001b[0;31mIndexError\u001b[0m                                Traceback (most recent call last)",
            "\u001b[0;32m<ipython-input-32-fabcb9a120c5>\u001b[0m in \u001b[0;36m<cell line: 2>\u001b[0;34m()\u001b[0m\n\u001b[1;32m      1\u001b[0m \u001b[0;31m# We only had three groups of parenthesis\u001b[0m\u001b[0;34m\u001b[0m\u001b[0;34m\u001b[0m\u001b[0m\n\u001b[0;32m----> 2\u001b[0;31m \u001b[0mresults\u001b[0m\u001b[0;34m.\u001b[0m\u001b[0mgroup\u001b[0m\u001b[0;34m(\u001b[0m\u001b[0;36m4\u001b[0m\u001b[0;34m)\u001b[0m\u001b[0;34m\u001b[0m\u001b[0;34m\u001b[0m\u001b[0m\n\u001b[0m",
            "\u001b[0;31mIndexError\u001b[0m: no such group"
          ]
        }
      ],
      "source": [
        "# We only had three groups of parenthesis\n",
        "results.group(4)"
      ]
    },
    {
      "cell_type": "markdown",
      "metadata": {
        "id": "zFUmstSIvDpm"
      },
      "source": [
        "## Additional Regex Syntax\n",
        "\n",
        "### Or operator |\n",
        "\n",
        "Use the pipe operator to have an **or** statment. For example"
      ]
    },
    {
      "cell_type": "code",
      "execution_count": 33,
      "metadata": {
        "id": "iJsyHvp8vDpm",
        "outputId": "f3eae9c4-e392-4edb-c72b-c62d38989012",
        "colab": {
          "base_uri": "https://localhost:8080/"
        }
      },
      "outputs": [
        {
          "output_type": "execute_result",
          "data": {
            "text/plain": [
              "<re.Match object; span=(5, 8), match='man'>"
            ]
          },
          "metadata": {},
          "execution_count": 33
        }
      ],
      "source": [
        "re.search(r\"man|woman\",\"This man was here.\")"
      ]
    },
    {
      "cell_type": "code",
      "execution_count": 34,
      "metadata": {
        "id": "gxXB2FbdvDpm",
        "outputId": "be7b263a-0ad1-4302-c190-d111cf1153e5",
        "colab": {
          "base_uri": "https://localhost:8080/"
        }
      },
      "outputs": [
        {
          "output_type": "execute_result",
          "data": {
            "text/plain": [
              "<re.Match object; span=(5, 10), match='woman'>"
            ]
          },
          "metadata": {},
          "execution_count": 34
        }
      ],
      "source": [
        "re.search(r\"man|woman\",\"This woman was here.\")"
      ]
    },
    {
      "cell_type": "markdown",
      "metadata": {
        "id": "fVVrjY3LvDpm"
      },
      "source": [
        "### The Wildcard Character\n",
        "\n",
        "Use a \"wildcard\" as a placement that will match any character placed there. You can use a simple period **.** for this. For example:"
      ]
    },
    {
      "cell_type": "code",
      "execution_count": 35,
      "metadata": {
        "id": "c1CaRjxDvDpm",
        "outputId": "f6361aad-62a7-45ed-8b32-3430b40fefa9",
        "colab": {
          "base_uri": "https://localhost:8080/"
        }
      },
      "outputs": [
        {
          "output_type": "execute_result",
          "data": {
            "text/plain": [
              "['cat', 'hat', 'sat']"
            ]
          },
          "metadata": {},
          "execution_count": 35
        }
      ],
      "source": [
        "re.findall(r\".at\",\"The cat in the hat sat here.\")"
      ]
    },
    {
      "cell_type": "code",
      "execution_count": 36,
      "metadata": {
        "id": "a4vVs25-vDpm",
        "outputId": "1cc32d16-83d6-4e56-80e7-79cb34c07499",
        "colab": {
          "base_uri": "https://localhost:8080/"
        }
      },
      "outputs": [
        {
          "output_type": "execute_result",
          "data": {
            "text/plain": [
              "['bat', 'lat']"
            ]
          },
          "metadata": {},
          "execution_count": 36
        }
      ],
      "source": [
        "re.findall(r\".at\",\"The bat went splat\")"
      ]
    },
    {
      "cell_type": "markdown",
      "metadata": {
        "id": "Pju9l_zEvDpm"
      },
      "source": [
        "Notice how we only matched the first 3 letters, that is because we need a **.** for each wildcard letter. Or use the quantifiers described above to set its own rules."
      ]
    },
    {
      "cell_type": "code",
      "execution_count": 37,
      "metadata": {
        "id": "Z1AAloJbvDpm",
        "outputId": "a30fe6e9-415d-4c77-fb5c-b3aaf2f072f1",
        "colab": {
          "base_uri": "https://localhost:8080/"
        }
      },
      "outputs": [
        {
          "output_type": "execute_result",
          "data": {
            "text/plain": [
              "['e bat', 'splat']"
            ]
          },
          "metadata": {},
          "execution_count": 37
        }
      ],
      "source": [
        "re.findall(r\"...at\",\"The bat went splat\")"
      ]
    },
    {
      "cell_type": "markdown",
      "metadata": {
        "id": "Uzj3C0CUvDpm"
      },
      "source": [
        "However this still leads the problem to grabbing more beforehand. Really we only want words that end with \"at\"."
      ]
    },
    {
      "cell_type": "code",
      "execution_count": 38,
      "metadata": {
        "id": "ASIsfHDvvDpm",
        "outputId": "2bffe98c-74ef-4ff9-e468-e457a5f0b72f",
        "colab": {
          "base_uri": "https://localhost:8080/"
        }
      },
      "outputs": [
        {
          "output_type": "execute_result",
          "data": {
            "text/plain": [
              "['bat', 'splat']"
            ]
          },
          "metadata": {},
          "execution_count": 38
        }
      ],
      "source": [
        "# One or more non-whitespace that ends with 'at'\n",
        "re.findall(r'\\S+at',\"The bat went splat\")"
      ]
    },
    {
      "cell_type": "markdown",
      "metadata": {
        "id": "-W_bdn01vDpm"
      },
      "source": [
        "### Starts with and Ends With\n",
        "\n",
        "We can use the **^** to signal starts with, and the **$** to signal ends with:"
      ]
    },
    {
      "cell_type": "code",
      "execution_count": 39,
      "metadata": {
        "id": "x9f3l9ZEvDpn",
        "outputId": "008f6942-4a55-4c00-bce3-36dcaf918748",
        "colab": {
          "base_uri": "https://localhost:8080/"
        }
      },
      "outputs": [
        {
          "output_type": "execute_result",
          "data": {
            "text/plain": [
              "['2']"
            ]
          },
          "metadata": {},
          "execution_count": 39
        }
      ],
      "source": [
        "# Ends with a number\n",
        "re.findall(r'\\d$','This ends with a number 2')"
      ]
    },
    {
      "cell_type": "code",
      "execution_count": 40,
      "metadata": {
        "id": "8_uIzBcXvDpn",
        "outputId": "66524460-91d8-432f-fd96-6162787f4329",
        "colab": {
          "base_uri": "https://localhost:8080/"
        }
      },
      "outputs": [
        {
          "output_type": "execute_result",
          "data": {
            "text/plain": [
              "['1']"
            ]
          },
          "metadata": {},
          "execution_count": 40
        }
      ],
      "source": [
        "# Starts with a number\n",
        "re.findall(r'^\\d','1 is the loneliest number.')"
      ]
    },
    {
      "cell_type": "markdown",
      "metadata": {
        "id": "Hc4ROqe-vDpn"
      },
      "source": [
        "Note that this is for the entire string, not individual words!"
      ]
    },
    {
      "cell_type": "markdown",
      "metadata": {
        "id": "RkKPoh4YvDpn"
      },
      "source": [
        "### Exclusion\n",
        "\n",
        "To exclude characters, we can use the **^** symbol in conjunction with a set of brackets **[]**. Anything inside the brackets is excluded. For example:"
      ]
    },
    {
      "cell_type": "code",
      "execution_count": 41,
      "metadata": {
        "collapsed": true,
        "id": "3OVBdQgLvDpn"
      },
      "outputs": [],
      "source": [
        "phrase = \"there are 3 numbers 34 inside 5 this sentence.\""
      ]
    },
    {
      "cell_type": "code",
      "execution_count": 42,
      "metadata": {
        "id": "7zIMSU97vDpn",
        "outputId": "8360e0ca-2463-4aee-e15a-4353f3b008ad",
        "colab": {
          "base_uri": "https://localhost:8080/"
        }
      },
      "outputs": [
        {
          "output_type": "execute_result",
          "data": {
            "text/plain": [
              "['t',\n",
              " 'h',\n",
              " 'e',\n",
              " 'r',\n",
              " 'e',\n",
              " ' ',\n",
              " 'a',\n",
              " 'r',\n",
              " 'e',\n",
              " ' ',\n",
              " ' ',\n",
              " 'n',\n",
              " 'u',\n",
              " 'm',\n",
              " 'b',\n",
              " 'e',\n",
              " 'r',\n",
              " 's',\n",
              " ' ',\n",
              " ' ',\n",
              " 'i',\n",
              " 'n',\n",
              " 's',\n",
              " 'i',\n",
              " 'd',\n",
              " 'e',\n",
              " ' ',\n",
              " ' ',\n",
              " 't',\n",
              " 'h',\n",
              " 'i',\n",
              " 's',\n",
              " ' ',\n",
              " 's',\n",
              " 'e',\n",
              " 'n',\n",
              " 't',\n",
              " 'e',\n",
              " 'n',\n",
              " 'c',\n",
              " 'e',\n",
              " '.']"
            ]
          },
          "metadata": {},
          "execution_count": 42
        }
      ],
      "source": [
        "re.findall(r'[^\\d]',phrase)"
      ]
    },
    {
      "cell_type": "markdown",
      "metadata": {
        "id": "o9A3P7mIvDpn"
      },
      "source": [
        "To get the words back together, use a + sign"
      ]
    },
    {
      "cell_type": "code",
      "execution_count": 43,
      "metadata": {
        "id": "ClVsbQpEvDpn",
        "outputId": "aed60a3b-623f-41c9-d72a-5e1e876ade4d",
        "colab": {
          "base_uri": "https://localhost:8080/"
        }
      },
      "outputs": [
        {
          "output_type": "execute_result",
          "data": {
            "text/plain": [
              "['there are ', ' numbers ', ' inside ', ' this sentence.']"
            ]
          },
          "metadata": {},
          "execution_count": 43
        }
      ],
      "source": [
        "re.findall(r'[^\\d]+',phrase)"
      ]
    },
    {
      "cell_type": "markdown",
      "metadata": {
        "id": "XKdedQMtvDpn"
      },
      "source": [
        "We can use this to remove punctuation from a sentence."
      ]
    },
    {
      "cell_type": "code",
      "execution_count": 44,
      "metadata": {
        "collapsed": true,
        "id": "PYK4oXyrvDpn"
      },
      "outputs": [],
      "source": [
        "test_phrase = 'This is a string! But it has punctuation. How can we remove it?'"
      ]
    },
    {
      "cell_type": "code",
      "execution_count": 45,
      "metadata": {
        "id": "2RFaYHWFvDpn",
        "outputId": "5bc8ab1d-b247-4cf5-dae2-80a8b73002a2",
        "colab": {
          "base_uri": "https://localhost:8080/"
        }
      },
      "outputs": [
        {
          "output_type": "execute_result",
          "data": {
            "text/plain": [
              "['This',\n",
              " 'is',\n",
              " 'a',\n",
              " 'string',\n",
              " 'But',\n",
              " 'it',\n",
              " 'has',\n",
              " 'punctuation',\n",
              " 'How',\n",
              " 'can',\n",
              " 'we',\n",
              " 'remove',\n",
              " 'it']"
            ]
          },
          "metadata": {},
          "execution_count": 45
        }
      ],
      "source": [
        "re.findall('[^!.? ]+',test_phrase)"
      ]
    },
    {
      "cell_type": "code",
      "execution_count": 46,
      "metadata": {
        "collapsed": true,
        "id": "28MAF1HTvDpn"
      },
      "outputs": [],
      "source": [
        "clean = ' '.join(re.findall('[^!.? ]+',test_phrase))"
      ]
    },
    {
      "cell_type": "code",
      "execution_count": 47,
      "metadata": {
        "id": "_v2Z_NvmvDpn",
        "outputId": "c3543e2d-51f6-49ff-f685-503ab2d4a26a",
        "colab": {
          "base_uri": "https://localhost:8080/",
          "height": 35
        }
      },
      "outputs": [
        {
          "output_type": "execute_result",
          "data": {
            "text/plain": [
              "'This is a string But it has punctuation How can we remove it'"
            ],
            "application/vnd.google.colaboratory.intrinsic+json": {
              "type": "string"
            }
          },
          "metadata": {},
          "execution_count": 47
        }
      ],
      "source": [
        "clean"
      ]
    },
    {
      "cell_type": "markdown",
      "metadata": {
        "id": "XNBy5SuovDpn"
      },
      "source": [
        "## Brackets for Grouping\n",
        "\n",
        "As we showed above we can use brackets to group together options, for example if we wanted to find hyphenated words:"
      ]
    },
    {
      "cell_type": "code",
      "execution_count": 48,
      "metadata": {
        "collapsed": true,
        "id": "BHcG50N-vDpn"
      },
      "outputs": [],
      "source": [
        "text = 'Only find the hypen-words in this sentence. But you do not know how long-ish they are'"
      ]
    },
    {
      "cell_type": "code",
      "execution_count": 49,
      "metadata": {
        "id": "9iFFXCeDvDpn",
        "outputId": "4fb76ae6-4e1d-4ab5-a483-98e7e497f7a7",
        "colab": {
          "base_uri": "https://localhost:8080/"
        }
      },
      "outputs": [
        {
          "output_type": "execute_result",
          "data": {
            "text/plain": [
              "['hypen-words', 'long-ish']"
            ]
          },
          "metadata": {},
          "execution_count": 49
        }
      ],
      "source": [
        "re.findall(r'[\\w]+-[\\w]+',text)"
      ]
    },
    {
      "cell_type": "markdown",
      "metadata": {
        "id": "YzT2Bvu-vDpn"
      },
      "source": [
        "## Parenthesis for Multiple Options\n",
        "\n",
        "If we have multiple options for matching, we can use parenthesis to list out these options. For Example:"
      ]
    },
    {
      "cell_type": "code",
      "execution_count": 50,
      "metadata": {
        "collapsed": true,
        "id": "uImtdBALvDpo"
      },
      "outputs": [],
      "source": [
        "# Find words that start with cat and end with one of these options: 'fish','nap', or 'claw'\n",
        "text = 'Hello, would you like some catfish?'\n",
        "texttwo = \"Hello, would you like to take a catnap?\"\n",
        "textthree = \"Hello, have you seen this caterpillar?\""
      ]
    },
    {
      "cell_type": "code",
      "execution_count": 51,
      "metadata": {
        "id": "VVNnXTTyvDpo",
        "outputId": "956cc985-2601-46a3-aab8-7cc2cb4da54f",
        "colab": {
          "base_uri": "https://localhost:8080/"
        }
      },
      "outputs": [
        {
          "output_type": "execute_result",
          "data": {
            "text/plain": [
              "<re.Match object; span=(27, 34), match='catfish'>"
            ]
          },
          "metadata": {},
          "execution_count": 51
        }
      ],
      "source": [
        "re.search(r'cat(fish|nap|claw)',text)"
      ]
    },
    {
      "cell_type": "code",
      "execution_count": 52,
      "metadata": {
        "id": "tB-N6G83vDpo",
        "outputId": "365dfd47-2b26-425c-a37b-a7f59ef71e44",
        "colab": {
          "base_uri": "https://localhost:8080/"
        }
      },
      "outputs": [
        {
          "output_type": "execute_result",
          "data": {
            "text/plain": [
              "<re.Match object; span=(32, 38), match='catnap'>"
            ]
          },
          "metadata": {},
          "execution_count": 52
        }
      ],
      "source": [
        "re.search(r'cat(fish|nap|claw)',texttwo)"
      ]
    },
    {
      "cell_type": "code",
      "execution_count": 53,
      "metadata": {
        "collapsed": true,
        "id": "1xbee0KovDpo"
      },
      "outputs": [],
      "source": [
        "# None returned\n",
        "re.search(r'cat(fish|nap|claw)',textthree)"
      ]
    }
  ],
  "metadata": {
    "kernelspec": {
      "display_name": "Python 3",
      "language": "python",
      "name": "python3"
    },
    "language_info": {
      "codemirror_mode": {
        "name": "ipython",
        "version": 3
      },
      "file_extension": ".py",
      "mimetype": "text/x-python",
      "name": "python",
      "nbconvert_exporter": "python",
      "pygments_lexer": "ipython3",
      "version": "3.6.6"
    },
    "colab": {
      "provenance": []
    }
  },
  "nbformat": 4,
  "nbformat_minor": 0
}