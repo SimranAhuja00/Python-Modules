{
  "cells": [
    {
      "cell_type": "markdown",
      "metadata": {
        "id": "Rucr2TfiNBY6"
      },
      "source": [
        "# Timing your code\n",
        "Sometimes it's important to know how long your code is taking to run, or at least know if a particular line of code is slowing down your entire project. Python has a built-in timing module to do this."
      ]
    },
    {
      "cell_type": "markdown",
      "metadata": {
        "id": "-TYUn4PhNBY6"
      },
      "source": [
        "## Example Function or Script\n",
        "\n",
        "Here we have two functions that do the same thing, but in different ways.\n",
        "How can we tell which one is more efficient? Let's time it!"
      ]
    },
    {
      "cell_type": "code",
      "execution_count": 1,
      "metadata": {
        "collapsed": true,
        "id": "57Acd6hLNBY7"
      },
      "outputs": [],
      "source": [
        "def func_one(n):\n",
        "    '''\n",
        "    Given a number n, returns a list of string integers\n",
        "    ['0','1','2',...'n]\n",
        "    '''\n",
        "    return [str(num) for num in range(n)]"
      ]
    },
    {
      "cell_type": "code",
      "execution_count": 2,
      "metadata": {
        "id": "UugpCXrNNBY7",
        "outputId": "9b64673c-e192-46a7-b29c-35b39469f980",
        "colab": {
          "base_uri": "https://localhost:8080/"
        }
      },
      "outputs": [
        {
          "output_type": "execute_result",
          "data": {
            "text/plain": [
              "['0', '1', '2', '3', '4', '5', '6', '7', '8', '9']"
            ]
          },
          "metadata": {},
          "execution_count": 2
        }
      ],
      "source": [
        "func_one(10)"
      ]
    },
    {
      "cell_type": "code",
      "execution_count": 3,
      "metadata": {
        "collapsed": true,
        "id": "w-M8OgRfNBY8"
      },
      "outputs": [],
      "source": [
        "def func_two(n):\n",
        "    '''\n",
        "    Given a number n, returns a list of string integers\n",
        "    ['0','1','2',...'n]\n",
        "    '''\n",
        "    return list(map(str,range(n)))"
      ]
    },
    {
      "cell_type": "code",
      "execution_count": 4,
      "metadata": {
        "id": "rv6VzwgYNBY8",
        "outputId": "f13506f8-faf2-4eac-ff5f-37ba5b640e43",
        "colab": {
          "base_uri": "https://localhost:8080/"
        }
      },
      "outputs": [
        {
          "output_type": "execute_result",
          "data": {
            "text/plain": [
              "['0', '1', '2', '3', '4', '5', '6', '7', '8', '9']"
            ]
          },
          "metadata": {},
          "execution_count": 4
        }
      ],
      "source": [
        "func_two(10)"
      ]
    },
    {
      "cell_type": "markdown",
      "metadata": {
        "id": "ruIpREeQNBY8"
      },
      "source": [
        "### Timing Start and Stop\n",
        "\n",
        "We can try using the time module to simply calculate the elapsed time for the code. Keep in mind, due to the time module's precision, the code needs to take **at least** 0.1 seconds to complete."
      ]
    },
    {
      "cell_type": "code",
      "execution_count": 5,
      "metadata": {
        "collapsed": true,
        "id": "rCts3BkFNBY8"
      },
      "outputs": [],
      "source": [
        "import time"
      ]
    },
    {
      "cell_type": "code",
      "execution_count": 6,
      "metadata": {
        "collapsed": true,
        "id": "3MnmG7I_NBY8"
      },
      "outputs": [],
      "source": [
        "# STEP 1: Get start time\n",
        "start_time = time.time()\n",
        "# Step 2: Run your code you want to time\n",
        "result = func_one(1000000)\n",
        "# Step 3: Calculate total time elapsed\n",
        "end_time = time.time() - start_time"
      ]
    },
    {
      "cell_type": "code",
      "execution_count": 7,
      "metadata": {
        "id": "AfHsExFCNBY9",
        "outputId": "b0030bfa-3aee-434c-eba5-1528ad150c32",
        "colab": {
          "base_uri": "https://localhost:8080/"
        }
      },
      "outputs": [
        {
          "output_type": "execute_result",
          "data": {
            "text/plain": [
              "0.18939876556396484"
            ]
          },
          "metadata": {},
          "execution_count": 7
        }
      ],
      "source": [
        "end_time"
      ]
    },
    {
      "cell_type": "code",
      "execution_count": 8,
      "metadata": {
        "collapsed": true,
        "id": "GKxEPkmnNBY9"
      },
      "outputs": [],
      "source": [
        "# STEP 1: Get start time\n",
        "start_time = time.time()\n",
        "# Step 2: Run your code you want to time\n",
        "result = func_two(1000000)\n",
        "# Step 3: Calculate total time elapsed\n",
        "end_time = time.time() - start_time"
      ]
    },
    {
      "cell_type": "code",
      "execution_count": 9,
      "metadata": {
        "id": "lVNPFmaDNBY9",
        "outputId": "a0af14cc-6193-45ae-d5be-06354cae61a0",
        "colab": {
          "base_uri": "https://localhost:8080/"
        }
      },
      "outputs": [
        {
          "output_type": "execute_result",
          "data": {
            "text/plain": [
              "0.1909031867980957"
            ]
          },
          "metadata": {},
          "execution_count": 9
        }
      ],
      "source": [
        "end_time"
      ]
    },
    {
      "cell_type": "markdown",
      "metadata": {
        "id": "dRZLKAohNBY9"
      },
      "source": [
        "### Timeit Module\n",
        "\n",
        "What if we have two blocks of code that are quite fast, the difference from the time.time() method may not be enough to tell which is fater. In this case, we can use the timeit module.\n",
        "\n",
        "The timeit module takes in two strings, a statement (stmt) and a setup. It then runs the setup code and runs the stmt code some n number of times and reports back average length of time it took."
      ]
    },
    {
      "cell_type": "code",
      "execution_count": 10,
      "metadata": {
        "collapsed": true,
        "id": "-TATqnJYNBY9"
      },
      "outputs": [],
      "source": [
        "import timeit"
      ]
    },
    {
      "cell_type": "markdown",
      "metadata": {
        "id": "7jC4BNwINBY9"
      },
      "source": [
        "The setup (anything that needs to be defined beforehand, such as def functions.)"
      ]
    },
    {
      "cell_type": "code",
      "execution_count": 11,
      "metadata": {
        "collapsed": true,
        "id": "t9HqA_pgNBY9"
      },
      "outputs": [],
      "source": [
        "setup = '''\n",
        "def func_one(n):\n",
        "    return [str(num) for num in range(n)]\n",
        "'''"
      ]
    },
    {
      "cell_type": "code",
      "execution_count": 12,
      "metadata": {
        "collapsed": true,
        "id": "_iVg_MxSNBY9"
      },
      "outputs": [],
      "source": [
        "stmt = 'func_one(100)'"
      ]
    },
    {
      "cell_type": "code",
      "execution_count": 13,
      "metadata": {
        "id": "Al-CDGbKNBY9",
        "outputId": "d8c63a83-5017-4b99-a0e1-3fbc23c84fa9",
        "colab": {
          "base_uri": "https://localhost:8080/"
        }
      },
      "outputs": [
        {
          "output_type": "execute_result",
          "data": {
            "text/plain": [
              "1.7800908829999997"
            ]
          },
          "metadata": {},
          "execution_count": 13
        }
      ],
      "source": [
        "timeit.timeit(stmt,setup,number=100000)"
      ]
    },
    {
      "cell_type": "markdown",
      "metadata": {
        "id": "UKBbXnD4NBY9"
      },
      "source": [
        "Now let try running func_two 10,000 times and compare the length of time it took."
      ]
    },
    {
      "cell_type": "code",
      "execution_count": 14,
      "metadata": {
        "collapsed": true,
        "id": "Gx1VJ0QFNBY-"
      },
      "outputs": [],
      "source": [
        "setup2 = '''\n",
        "def func_two(n):\n",
        "    return list(map(str,range(n)))\n",
        "'''"
      ]
    },
    {
      "cell_type": "code",
      "execution_count": 15,
      "metadata": {
        "collapsed": true,
        "id": "jlchuthRNBY-"
      },
      "outputs": [],
      "source": [
        "stmt2 = 'func_two(100)'"
      ]
    },
    {
      "cell_type": "code",
      "execution_count": 16,
      "metadata": {
        "id": "lq3TksHKNBY-",
        "outputId": "6c1e3ff7-f16f-4495-f8b6-53868d568db6",
        "colab": {
          "base_uri": "https://localhost:8080/"
        }
      },
      "outputs": [
        {
          "output_type": "execute_result",
          "data": {
            "text/plain": [
              "1.0808432800000105"
            ]
          },
          "metadata": {},
          "execution_count": 16
        }
      ],
      "source": [
        "timeit.timeit(stmt2,setup2,number=100000)"
      ]
    },
    {
      "cell_type": "markdown",
      "metadata": {
        "id": "nBycd3wUNBY-"
      },
      "source": [
        "It looks like func_two is more efficient. You can specify more number of runs if you want to clarify the different for fast performing functions."
      ]
    },
    {
      "cell_type": "code",
      "execution_count": 17,
      "metadata": {
        "id": "r9pi4ii0NBY-",
        "outputId": "0d411992-0c7b-4374-c8e3-a3b71110c89b",
        "colab": {
          "base_uri": "https://localhost:8080/"
        }
      },
      "outputs": [
        {
          "output_type": "execute_result",
          "data": {
            "text/plain": [
              "13.377842664"
            ]
          },
          "metadata": {},
          "execution_count": 17
        }
      ],
      "source": [
        "timeit.timeit(stmt,setup,number=1000000)"
      ]
    },
    {
      "cell_type": "code",
      "execution_count": 18,
      "metadata": {
        "id": "CgdE7RCHNBY-",
        "outputId": "3d1629ff-7fd8-4cb4-dd0f-63004ee95824",
        "colab": {
          "base_uri": "https://localhost:8080/"
        }
      },
      "outputs": [
        {
          "output_type": "execute_result",
          "data": {
            "text/plain": [
              "11.011551826000002"
            ]
          },
          "metadata": {},
          "execution_count": 18
        }
      ],
      "source": [
        "timeit.timeit(stmt2,setup2,number=1000000)"
      ]
    },
    {
      "cell_type": "markdown",
      "metadata": {
        "id": "3jD6ix1CNBY-"
      },
      "source": [
        "## Timing you code with Jupyter \"magic\" method\n",
        "\n",
        "**This method is ONLY available in Jupyter and the magic command needs to be at the top of the cell with nothing above it (not even commented code)**"
      ]
    },
    {
      "cell_type": "code",
      "execution_count": 19,
      "metadata": {
        "id": "-H3FopGrNBY-",
        "outputId": "3f47d4d7-1688-4f3b-c9ef-d54468438793",
        "colab": {
          "base_uri": "https://localhost:8080/"
        }
      },
      "outputs": [
        {
          "output_type": "stream",
          "name": "stdout",
          "text": [
            "13.6 µs ± 2.19 µs per loop (mean ± std. dev. of 7 runs, 100000 loops each)\n"
          ]
        }
      ],
      "source": [
        "%%timeit\n",
        "func_one(100)"
      ]
    },
    {
      "cell_type": "code",
      "execution_count": 20,
      "metadata": {
        "id": "n7p8y_gmNBY-",
        "outputId": "a47491e7-6b5e-40c8-a764-5e146455f0ad",
        "colab": {
          "base_uri": "https://localhost:8080/"
        }
      },
      "outputs": [
        {
          "output_type": "stream",
          "name": "stdout",
          "text": [
            "10.1 µs ± 90.9 ns per loop (mean ± std. dev. of 7 runs, 100000 loops each)\n"
          ]
        }
      ],
      "source": [
        "%%timeit\n",
        "func_two(100)"
      ]
    }
  ],
  "metadata": {
    "kernelspec": {
      "display_name": "Python 3",
      "language": "python",
      "name": "python3"
    },
    "language_info": {
      "codemirror_mode": {
        "name": "ipython",
        "version": 3
      },
      "file_extension": ".py",
      "mimetype": "text/x-python",
      "name": "python",
      "nbconvert_exporter": "python",
      "pygments_lexer": "ipython3",
      "version": "3.6.6"
    },
    "colab": {
      "provenance": []
    }
  },
  "nbformat": 4,
  "nbformat_minor": 0
}