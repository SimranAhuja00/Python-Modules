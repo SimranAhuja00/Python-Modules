{
  "cells": [
    {
      "cell_type": "markdown",
      "metadata": {
        "id": "yFSEaejMDe3i"
      },
      "source": [
        "# Collections Module\n",
        "\n",
        "The collections module is a built-in module that implements specialized container data types providing alternatives to Python’s general purpose built-in containers. We've already gone over the basics: dict, list, set, and tuple.\n",
        "\n",
        "Now we'll learn about the alternatives that the collections module provides.\n",
        "\n",
        "## Counter\n",
        "\n",
        "*Counter* is a *dict* subclass which helps count hashable objects. Inside of it elements are stored as dictionary keys and the counts of the objects are stored as the value.\n",
        "\n",
        "Let's see how it can be used:"
      ]
    },
    {
      "cell_type": "code",
      "execution_count": 1,
      "metadata": {
        "collapsed": true,
        "id": "6B20-HYuDe3j"
      },
      "outputs": [],
      "source": [
        "from collections import Counter"
      ]
    },
    {
      "cell_type": "markdown",
      "metadata": {
        "id": "n4R0AuNfDe3j"
      },
      "source": [
        "**Counter() with lists**"
      ]
    },
    {
      "cell_type": "code",
      "execution_count": 2,
      "metadata": {
        "id": "ZKAWAmylDe3k",
        "outputId": "425a5202-8be8-4f3f-a611-e2e80409270e",
        "colab": {
          "base_uri": "https://localhost:8080/"
        }
      },
      "outputs": [
        {
          "output_type": "execute_result",
          "data": {
            "text/plain": [
              "Counter({1: 7, 2: 7, 3: 4, 12: 1, 32: 1})"
            ]
          },
          "metadata": {},
          "execution_count": 2
        }
      ],
      "source": [
        "mylist = [1,2,2,2,2,3,3,3,1,2,1,12,3,2,32,2,1,1,1,1]\n",
        "\n",
        "Counter(mylist)"
      ]
    },
    {
      "cell_type": "markdown",
      "metadata": {
        "id": "Fg9qA26IDe3k"
      },
      "source": [
        "**Counter with strings**"
      ]
    },
    {
      "cell_type": "code",
      "execution_count": 3,
      "metadata": {
        "id": "0YemyLF1De3l",
        "outputId": "a18401c5-9914-4282-c238-cd7746942e7a",
        "colab": {
          "base_uri": "https://localhost:8080/"
        }
      },
      "outputs": [
        {
          "output_type": "execute_result",
          "data": {
            "text/plain": [
              "Counter({'a': 7, 'b': 6, 'c': 4, 's': 5, 't': 5})"
            ]
          },
          "metadata": {},
          "execution_count": 3
        }
      ],
      "source": [
        "Counter('aabbaaaaabbbbccccsssssttttt')"
      ]
    },
    {
      "cell_type": "markdown",
      "metadata": {
        "id": "jt2NHkqADe3l"
      },
      "source": [
        "**Counter with words in a sentence**"
      ]
    },
    {
      "cell_type": "code",
      "execution_count": 4,
      "metadata": {
        "id": "QN4Zq7_oDe3l",
        "outputId": "148dca1f-947e-4dfc-be47-e0e3f626ea4f",
        "colab": {
          "base_uri": "https://localhost:8080/"
        }
      },
      "outputs": [
        {
          "output_type": "execute_result",
          "data": {
            "text/plain": [
              "Counter({'How': 1,\n",
              "         'many': 1,\n",
              "         'times': 2,\n",
              "         'does': 1,\n",
              "         'each': 3,\n",
              "         'word': 3,\n",
              "         'show': 1,\n",
              "         'up': 1,\n",
              "         'in': 1,\n",
              "         'this': 1,\n",
              "         'sentence': 1})"
            ]
          },
          "metadata": {},
          "execution_count": 4
        }
      ],
      "source": [
        "s = 'How many times does each word show up in this sentence word times each each word'\n",
        "\n",
        "words = s.split()\n",
        "\n",
        "Counter(words)"
      ]
    },
    {
      "cell_type": "code",
      "execution_count": 5,
      "metadata": {
        "id": "thSbCLuHDe3l",
        "outputId": "8a9f3880-e6ac-4155-fb50-822c8aa93f70",
        "colab": {
          "base_uri": "https://localhost:8080/"
        }
      },
      "outputs": [
        {
          "output_type": "execute_result",
          "data": {
            "text/plain": [
              "[('each', 3), ('word', 3)]"
            ]
          },
          "metadata": {},
          "execution_count": 5
        }
      ],
      "source": [
        "# Methods with Counter()\n",
        "c = Counter(words)\n",
        "\n",
        "c.most_common(2)"
      ]
    },
    {
      "cell_type": "markdown",
      "metadata": {
        "id": "YUcuss6ZDe3m"
      },
      "source": [
        "## Common patterns when using the Counter() object"
      ]
    },
    {
      "cell_type": "markdown",
      "metadata": {
        "collapsed": true,
        "id": "4hZtr83lDe3m"
      },
      "source": [
        "    sum(c.values())                 # total of all counts\n",
        "    c.clear()                       # reset all counts\n",
        "    list(c)                         # list unique elements\n",
        "    set(c)                          # convert to a set\n",
        "    dict(c)                         # convert to a regular dictionary\n",
        "    c.items()                       # convert to a list of (elem, cnt) pairs\n",
        "    Counter(dict(list_of_pairs))    # convert from a list of (elem, cnt) pairs\n",
        "    c.most_common()[:-n-1:-1]       # n least common elements\n",
        "    c += Counter()                  # remove zero and negative counts"
      ]
    },
    {
      "cell_type": "markdown",
      "metadata": {
        "id": "nMG_QGbmDe3m"
      },
      "source": [
        "## defaultdict\n",
        "\n",
        "defaultdict is a dictionary-like object which provides all methods provided by a dictionary but takes a first argument (default_factory) as a default data type for the dictionary. Using defaultdict is faster than doing the same using dict.set_default method.\n",
        "\n",
        "**A defaultdict will never raise a KeyError. Any key that does not exist gets the value returned by the default factory.**"
      ]
    },
    {
      "cell_type": "code",
      "execution_count": 6,
      "metadata": {
        "collapsed": true,
        "id": "MYSUYdOQDe3m"
      },
      "outputs": [],
      "source": [
        "from collections import defaultdict"
      ]
    },
    {
      "cell_type": "code",
      "execution_count": 7,
      "metadata": {
        "collapsed": true,
        "id": "A2DDkuGZDe3m"
      },
      "outputs": [],
      "source": [
        "d = {}"
      ]
    },
    {
      "cell_type": "code",
      "execution_count": 8,
      "metadata": {
        "id": "Tz22zQkMDe3n",
        "outputId": "f4292f34-6c99-4320-b751-d7e8d5efe720",
        "colab": {
          "base_uri": "https://localhost:8080/",
          "height": 169
        }
      },
      "outputs": [
        {
          "output_type": "error",
          "ename": "KeyError",
          "evalue": "ignored",
          "traceback": [
            "\u001b[0;31m---------------------------------------------------------------------------\u001b[0m",
            "\u001b[0;31mKeyError\u001b[0m                                  Traceback (most recent call last)",
            "\u001b[0;32m<ipython-input-8-924453a5f45e>\u001b[0m in \u001b[0;36m<cell line: 1>\u001b[0;34m()\u001b[0m\n\u001b[0;32m----> 1\u001b[0;31m \u001b[0md\u001b[0m\u001b[0;34m[\u001b[0m\u001b[0;34m'one'\u001b[0m\u001b[0;34m]\u001b[0m\u001b[0;34m\u001b[0m\u001b[0;34m\u001b[0m\u001b[0m\n\u001b[0m",
            "\u001b[0;31mKeyError\u001b[0m: 'one'"
          ]
        }
      ],
      "source": [
        "d['one']"
      ]
    },
    {
      "cell_type": "markdown",
      "source": [
        "we use defaultdict to avoid a KeyError and to assign a default value"
      ],
      "metadata": {
        "id": "paVctLJyDzsD"
      }
    },
    {
      "cell_type": "code",
      "execution_count": 9,
      "metadata": {
        "collapsed": true,
        "id": "Am9aqMOIDe3n"
      },
      "outputs": [],
      "source": [
        "d  = defaultdict(object)"
      ]
    },
    {
      "cell_type": "code",
      "execution_count": 10,
      "metadata": {
        "id": "BI4knLZUDe3n",
        "outputId": "a5cecbcb-0a13-4736-87fd-21cd31972935",
        "colab": {
          "base_uri": "https://localhost:8080/"
        }
      },
      "outputs": [
        {
          "output_type": "execute_result",
          "data": {
            "text/plain": [
              "<object at 0x7f4ccb267900>"
            ]
          },
          "metadata": {},
          "execution_count": 10
        }
      ],
      "source": [
        "d['one']"
      ]
    },
    {
      "cell_type": "code",
      "execution_count": 11,
      "metadata": {
        "id": "dOi6tr2SDe3n",
        "outputId": "a306fa07-cf92-46ee-d3b7-945953c4f5ff",
        "colab": {
          "base_uri": "https://localhost:8080/"
        }
      },
      "outputs": [
        {
          "output_type": "stream",
          "name": "stdout",
          "text": [
            "one\n"
          ]
        }
      ],
      "source": [
        "for item in d:\n",
        "    print(item)"
      ]
    },
    {
      "cell_type": "markdown",
      "metadata": {
        "id": "wrOcUEOHDe3n"
      },
      "source": [
        "Can also initialize with default values:"
      ]
    },
    {
      "cell_type": "code",
      "execution_count": 12,
      "metadata": {
        "collapsed": true,
        "id": "MTgF20bkDe3n"
      },
      "outputs": [],
      "source": [
        "d = defaultdict(lambda: 0)"
      ]
    },
    {
      "cell_type": "code",
      "execution_count": 13,
      "metadata": {
        "id": "2t9NDTO_De3n",
        "outputId": "c17b4e02-627b-43ac-86e8-170fab9016a6",
        "colab": {
          "base_uri": "https://localhost:8080/"
        }
      },
      "outputs": [
        {
          "output_type": "execute_result",
          "data": {
            "text/plain": [
              "0"
            ]
          },
          "metadata": {},
          "execution_count": 13
        }
      ],
      "source": [
        "d['one']"
      ]
    },
    {
      "cell_type": "markdown",
      "metadata": {
        "id": "Djp2oXudDe3n"
      },
      "source": [
        "# namedtuple\n",
        "The standard tuple uses numerical indexes to access its members, for example:"
      ]
    },
    {
      "cell_type": "code",
      "execution_count": 14,
      "metadata": {
        "collapsed": true,
        "id": "Y_PxWZk8De3n"
      },
      "outputs": [],
      "source": [
        "t = (12,13,14)"
      ]
    },
    {
      "cell_type": "code",
      "execution_count": 15,
      "metadata": {
        "id": "umCkvYvjDe3n",
        "outputId": "9757a3d7-0626-4605-a80a-1c027398bbf6",
        "colab": {
          "base_uri": "https://localhost:8080/"
        }
      },
      "outputs": [
        {
          "output_type": "execute_result",
          "data": {
            "text/plain": [
              "12"
            ]
          },
          "metadata": {},
          "execution_count": 15
        }
      ],
      "source": [
        "t[0]"
      ]
    },
    {
      "cell_type": "markdown",
      "metadata": {
        "id": "wko-Q4YrDe3o"
      },
      "source": [
        "For simple use cases, this is usually enough. On the other hand, remembering which index should be used for each value can lead to errors, especially if the tuple has a lot of fields and is constructed far from where it is used. A namedtuple assigns names, as well as the numerical index, to each member.\n",
        "\n",
        "Each kind of namedtuple is represented by its own class, created by using the namedtuple() factory function. The arguments are the name of the new class and a string containing the names of the elements.\n",
        "\n",
        "You can basically think of namedtuples as a very quick way of creating a new object/class type with some attribute fields.\n",
        "For example:"
      ]
    },
    {
      "cell_type": "code",
      "execution_count": 16,
      "metadata": {
        "collapsed": true,
        "id": "U2O5GYwaDe3o"
      },
      "outputs": [],
      "source": [
        "from collections import namedtuple"
      ]
    },
    {
      "cell_type": "code",
      "execution_count": 17,
      "metadata": {
        "collapsed": true,
        "id": "ysN9p0gWDe3o"
      },
      "outputs": [],
      "source": [
        "Dog = namedtuple('Dog',['age','breed','name'])\n",
        "\n",
        "sam = Dog(age=2,breed='Lab',name='Sammy')\n",
        "\n",
        "frank = Dog(age=2,breed='Shepard',name=\"Frankie\")"
      ]
    },
    {
      "cell_type": "markdown",
      "metadata": {
        "id": "4QIFw7voDe3o"
      },
      "source": [
        "We construct the namedtuple by first passing the object type name (Dog) and then passing a string with the variety of fields as a string with spaces between the field names. We can then call on the various attributes:"
      ]
    },
    {
      "cell_type": "code",
      "execution_count": 18,
      "metadata": {
        "id": "4B6Jf17lDe3o",
        "outputId": "da02b8dd-4a64-4276-f3db-6848524802fa",
        "colab": {
          "base_uri": "https://localhost:8080/"
        }
      },
      "outputs": [
        {
          "output_type": "execute_result",
          "data": {
            "text/plain": [
              "Dog(age=2, breed='Lab', name='Sammy')"
            ]
          },
          "metadata": {},
          "execution_count": 18
        }
      ],
      "source": [
        "sam"
      ]
    },
    {
      "cell_type": "code",
      "execution_count": 19,
      "metadata": {
        "id": "cG2D3F9BDe3o",
        "outputId": "14357d13-67f1-44a4-9301-b516d8c63011",
        "colab": {
          "base_uri": "https://localhost:8080/"
        }
      },
      "outputs": [
        {
          "output_type": "execute_result",
          "data": {
            "text/plain": [
              "2"
            ]
          },
          "metadata": {},
          "execution_count": 19
        }
      ],
      "source": [
        "sam.age"
      ]
    },
    {
      "cell_type": "code",
      "execution_count": 20,
      "metadata": {
        "id": "REuPVvXsDe3o",
        "outputId": "338e74b7-b478-4888-b5d3-b7976159f852",
        "colab": {
          "base_uri": "https://localhost:8080/",
          "height": 35
        }
      },
      "outputs": [
        {
          "output_type": "execute_result",
          "data": {
            "text/plain": [
              "'Lab'"
            ],
            "application/vnd.google.colaboratory.intrinsic+json": {
              "type": "string"
            }
          },
          "metadata": {},
          "execution_count": 20
        }
      ],
      "source": [
        "sam.breed"
      ]
    },
    {
      "cell_type": "code",
      "execution_count": 21,
      "metadata": {
        "id": "pQoVa9mWDe3o",
        "outputId": "eb801afc-2e61-4e3e-8034-b4f94ea250dd",
        "colab": {
          "base_uri": "https://localhost:8080/"
        }
      },
      "outputs": [
        {
          "output_type": "execute_result",
          "data": {
            "text/plain": [
              "2"
            ]
          },
          "metadata": {},
          "execution_count": 21
        }
      ],
      "source": [
        "sam[0]"
      ]
    }
  ],
  "metadata": {
    "kernelspec": {
      "display_name": "Python 3",
      "language": "python",
      "name": "python3"
    },
    "language_info": {
      "codemirror_mode": {
        "name": "ipython",
        "version": 3
      },
      "file_extension": ".py",
      "mimetype": "text/x-python",
      "name": "python",
      "nbconvert_exporter": "python",
      "pygments_lexer": "ipython3",
      "version": "3.6.6"
    },
    "colab": {
      "provenance": []
    }
  },
  "nbformat": 4,
  "nbformat_minor": 0
}